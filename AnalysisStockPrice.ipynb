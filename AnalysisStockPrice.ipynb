{
 "cells": [
  {
   "cell_type": "code",
   "execution_count": null,
   "id": "21758e8b-3db7-42d2-a373-4c6fedf5b810",
   "metadata": {},
   "outputs": [],
   "source": [
    "import sys\n",
    "sys.executable"
   ]
  },
  {
   "cell_type": "code",
   "execution_count": null,
   "id": "94411a1a-1c2d-439f-9135-3cec1ebfff9d",
   "metadata": {},
   "outputs": [],
   "source": [
    "# %pip install yfinance\n",
    "import yfinance as yf\n",
    "print(yf.__version__)"
   ]
  },
  {
   "cell_type": "code",
   "execution_count": null,
   "id": "a8f1ba42-2f2f-4d62-99b2-bfcc9820d09c",
   "metadata": {},
   "outputs": [],
   "source": [
    "# Imports\n",
    "import yfinance as yf\n",
    "\n",
    "ticker = \"AAPL\"  # Replace with the ticker symbol of the company you want to analyze\n",
    "start_date = \"2010-01-01\"\n",
    "end_date = \"2020-12-31\"\n",
    "\n",
    "stock_prices_data = yf.download(ticker, start=start_date, end=end_date)\n",
    "\n",
    "stock_prices_data.to_csv(\"stock_prices_data.csv\")"
   ]
  },
  {
   "cell_type": "code",
   "execution_count": null,
   "id": "06aa5538-0c38-4166-8427-a592947c07e1",
   "metadata": {},
   "outputs": [],
   "source": [
    "# %pip install pyspark"
   ]
  },
  {
   "cell_type": "code",
   "execution_count": null,
   "id": "206cb186-d3c8-4fe8-b58e-4246c5985cf1",
   "metadata": {},
   "outputs": [],
   "source": [
    "# Using PySpark to Save csv via a DataFrame to HDFS\n",
    "-- TODO"
   ]
  },
  {
   "cell_type": "code",
   "execution_count": null,
   "id": "2b78598c-5f5b-4462-b905-105b74f8bcb6",
   "metadata": {},
   "outputs": [],
   "source": [
    "# Imports\n",
    "from pyspark.sql import SparkSession\n",
    "\n",
    "spark = SparkSession.builder\\\n",
    "        .appName(\"StockPrices\")\\\n",
    "        .getOrCreate()\n",
    "\n",
    "stock_prices_df = spark.read\\\n",
    "                .option(\"header\", \"true\")\\\n",
    "                .option(\"inferSchema\", \"true\")\\\n",
    "                .csv(\"/Users/p0s07cu/Desktop/stock_prices_data.csv\")"
   ]
  },
  {
   "cell_type": "code",
   "execution_count": null,
   "id": "5f4edb6c-3835-49fb-9a55-ef6f80960a76",
   "metadata": {},
   "outputs": [],
   "source": [
    "stock_prices_df.show()"
   ]
  },
  {
   "cell_type": "code",
   "execution_count": null,
   "id": "55d95594-d288-45d0-80e5-0b486a01b10e",
   "metadata": {},
   "outputs": [],
   "source": [
    "# Imports\n",
    "from pyspark.sql.functions import mean, stddev, corr\n",
    "\n",
    "mean_price = stock_prices_df.select(mean(\"Close\")).first()[0]\n",
    "stddev_price = stock_prices_df.select(stddev(\"Close\")).first()[0]\n",
    "corr_price_volume = stock_prices_df.select(corr(\"Close\", \"Volume\")).first()[0]\n",
    "\n",
    "print(\"Mean Price:\", mean_price)\n",
    "print(\"Standard Deviation Price:\", stddev_price)\n",
    "print(\"Correlation between Price and Volume:\", corr_price_volume)"
   ]
  },
  {
   "cell_type": "code",
   "execution_count": null,
   "id": "ab0daf57-abb8-4023-ab9f-562cbacc656f",
   "metadata": {},
   "outputs": [],
   "source": [
    "# %pip install matplotlib"
   ]
  },
  {
   "cell_type": "code",
   "execution_count": null,
   "id": "7a5cb7d9-22ae-4731-b30e-741541836427",
   "metadata": {},
   "outputs": [],
   "source": [
    "# remaining_rows = stock_prices_df.limit(stock_prices_df.count() - 2)\n",
    "# remaining_rows.show()"
   ]
  },
  {
   "cell_type": "code",
   "execution_count": null,
   "id": "fac8c369-e9cb-44a8-8d0a-d8bc902829c2",
   "metadata": {},
   "outputs": [],
   "source": [
    "# Imports\n",
    "import matplotlib.pyplot as plt\n",
    "\n",
    "prices = stock_prices_df.select(\"Date\", \"Close\").collect()\n",
    "dates = [row.Date for row in prices]\n",
    "prices = [row.Close for row in prices]\n",
    "\n",
    "plt.plot(dates, prices)\n",
    "plt.xlabel(\"Date\")\n",
    "plt.ylabel(\"Close\")\n",
    "plt.title(\"Daily Stock Prices\")\n",
    "plt.show()"
   ]
  },
  {
   "cell_type": "code",
   "execution_count": null,
   "id": "44cb10ff-92c4-444f-b38d-0ddb32e63946",
   "metadata": {},
   "outputs": [],
   "source": []
  }
 ],
 "metadata": {
  "kernelspec": {
   "display_name": "Python 3 (ipykernel)",
   "language": "python",
   "name": "python3"
  },
  "language_info": {
   "codemirror_mode": {
    "name": "ipython",
    "version": 3
   },
   "file_extension": ".py",
   "mimetype": "text/x-python",
   "name": "python",
   "nbconvert_exporter": "python",
   "pygments_lexer": "ipython3",
   "version": "3.9.6"
  }
 },
 "nbformat": 4,
 "nbformat_minor": 5
}
